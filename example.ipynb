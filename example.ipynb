{
 "cells": [
  {
   "cell_type": "code",
   "execution_count": 1,
   "metadata": {
    "collapsed": false
   },
   "outputs": [],
   "source": [
    "from banks import Bank, BanksLoader\n",
    "\n",
    "#bank = Bank(450000036,1326,'АЛЬФА-БАНК')\n",
    "bank = Bank(450000370,2306,'Абсолют Банк')"
   ]
  },
  {
   "cell_type": "code",
   "execution_count": 3,
   "metadata": {
    "collapsed": false
   },
   "outputs": [
    {
     "name": "stdout",
     "output_type": "stream",
     "text": [
      "Processed 2 of 50..."
     ]
    }
   ],
   "source": [
    "cl = BanksLoader().load_closed()"
   ]
  },
  {
   "cell_type": "code",
   "execution_count": 4,
   "metadata": {
    "collapsed": false
   },
   "outputs": [],
   "source": [
    "from banks import Bank\n"
   ]
  },
  {
   "cell_type": "code",
   "execution_count": 36,
   "metadata": {
    "collapsed": false
   },
   "outputs": [
    {
     "data": {
      "text/html": [
       "<div>\n",
       "<table border=\"1\" class=\"dataframe\">\n",
       "  <thead>\n",
       "    <tr style=\"text-align: right;\">\n",
       "      <th></th>\n",
       "      <th>Н1.0</th>\n",
       "      <th>Н1.1</th>\n",
       "      <th>Н1.2</th>\n",
       "      <th>Н1.3</th>\n",
       "      <th>Н10.1</th>\n",
       "      <th>Н12</th>\n",
       "      <th>Н15</th>\n",
       "      <th>Н15.1</th>\n",
       "      <th>Н16</th>\n",
       "      <th>Н16.1</th>\n",
       "      <th>Н16.2</th>\n",
       "      <th>Н18</th>\n",
       "      <th>Н2</th>\n",
       "      <th>Н3</th>\n",
       "      <th>Н4</th>\n",
       "      <th>Н7</th>\n",
       "      <th>Н9.1</th>\n",
       "    </tr>\n",
       "  </thead>\n",
       "  <tbody>\n",
       "    <tr>\n",
       "      <th>1</th>\n",
       "      <td>1279.0</td>\n",
       "      <td>1034.0</td>\n",
       "      <td>1034.0</td>\n",
       "      <td>0.0</td>\n",
       "      <td>111.0</td>\n",
       "      <td>105.0</td>\n",
       "      <td>0.0</td>\n",
       "      <td>0.0</td>\n",
       "      <td>0.0</td>\n",
       "      <td>0.0</td>\n",
       "      <td>0.0</td>\n",
       "      <td>0.0</td>\n",
       "      <td>5853.0</td>\n",
       "      <td>8426.0</td>\n",
       "      <td>8362.0</td>\n",
       "      <td>32393.0</td>\n",
       "      <td>0.0</td>\n",
       "    </tr>\n",
       "  </tbody>\n",
       "</table>\n",
       "</div>"
      ],
      "text/plain": [
       "0    Н1.0    Н1.1    Н1.2  Н1.3  Н10.1    Н12  Н15  Н15.1  Н16  Н16.1  Н16.2  \\\n",
       "1  1279.0  1034.0  1034.0   0.0  111.0  105.0  0.0    0.0  0.0    0.0    0.0   \n",
       "\n",
       "0  Н18      Н2      Н3      Н4       Н7  Н9.1  \n",
       "1  0.0  5853.0  8426.0  8362.0  32393.0   0.0  "
      ]
     },
     "execution_count": 36,
     "metadata": {},
     "output_type": "execute_result"
    }
   ],
   "source": [
    "f[['Н1.0', 'Н1.1', 'Н1.2', 'Н1.3', 'Н10.1', 'Н12', 'Н15',\n",
    "       'Н15.1', 'Н16', 'Н16.1', 'Н16.2', 'Н18', 'Н2', 'Н3', 'Н4', 'Н7', 'Н9.1',]]"
   ]
  },
  {
   "cell_type": "code",
   "execution_count": null,
   "metadata": {
    "collapsed": true
   },
   "outputs": [],
   "source": []
  },
  {
   "cell_type": "code",
   "execution_count": null,
   "metadata": {
    "collapsed": true
   },
   "outputs": [],
   "source": []
  }
 ],
 "metadata": {
  "kernelspec": {
   "display_name": "Python 3",
   "language": "python",
   "name": "python3"
  },
  "language_info": {
   "codemirror_mode": {
    "name": "ipython",
    "version": 3
   },
   "file_extension": ".py",
   "mimetype": "text/x-python",
   "name": "python",
   "nbconvert_exporter": "python",
   "pygments_lexer": "ipython3",
   "version": "3.5.1"
  }
 },
 "nbformat": 4,
 "nbformat_minor": 0
}
