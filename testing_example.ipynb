{
 "cells": [
  {
   "cell_type": "code",
   "execution_count": null,
   "metadata": {
    "collapsed": false
   },
   "outputs": [],
   "source": [
    "from banks import Bank, BanksLoader\n",
    "\n",
    "#bank = Bank(450000036,1326,'АЛЬФА-БАНК')\n",
    "#bank = Bank(450000370,2306,'Абсолют Банк')"
   ]
  },
  {
   "cell_type": "code",
   "execution_count": null,
   "metadata": {
    "collapsed": false
   },
   "outputs": [
    {
     "name": "stdout",
     "output_type": "stream",
     "text": [
      "\n",
      "Loading closed banks...\n",
      "Processed 49 page of 50...\n",
      "Loading descriptions for closed banks...\n",
      "Processed 1  of 2499...http://www.banki.ru//banks/memory/bank/?id=73574\n",
      "Index(['Название банка', 'Город', 'Номер лицензии', 'Причина', 'Дата',\n",
      "       'Причина отзыва лицензии', 'index'],\n",
      "      dtype='object')\n",
      "Processed 2  of 2499...http://www.banki.ru//banks/memory/bank/?id=73576\n",
      "Index(['Название банка', 'Город', 'Номер лицензии', 'Причина', 'Дата',\n",
      "       'Причина отзыва лицензии', 'index'],\n",
      "      dtype='object')\n",
      "Processed 3  of 2499...http://www.banki.ru//banks/memory/bank/?id=210368\n",
      "Index(['Название банка', 'Город', 'Номер лицензии', 'Причина', 'Дата',\n",
      "       'Причина ликвидации', 'index'],\n",
      "      dtype='object')\n",
      "Processed 4  of 2499...http://www.banki.ru//banks/memory/bank/?id=73578\n",
      "Index(['Название банка', 'Город', 'Номер лицензии', 'Причина', 'Дата',\n",
      "       'Причина отзыва лицензии', 'index'],\n",
      "      dtype='object')\n",
      "Processed 5  of 2499...http://www.banki.ru//banks/memory/bank/?id=73580\n",
      "Index(['Название банка', 'Город', 'Номер лицензии', 'Причина', 'Дата',\n",
      "       'Причина отзыва лицензии', 'index'],\n",
      "      dtype='object')\n",
      "Processed 6  of 2499...http://www.banki.ru//banks/memory/bank/?id=73582\n",
      "Index(['Название банка', 'Город', 'Номер лицензии', 'Причина', 'Дата',\n",
      "       'Причина отзыва лицензии', 'index'],\n",
      "      dtype='object')\n",
      "Processed 7  of 2499...http://www.banki.ru//banks/memory/bank/?id=73584\n",
      "Index(['Название банка', 'Город', 'Номер лицензии', 'Причина', 'Дата',\n",
      "       'Причина отзыва лицензии', 'index'],\n",
      "      dtype='object')\n",
      "Processed 8  of 2499...http://www.banki.ru//banks/memory/bank/?id=207532\n",
      "Index(['Название банка', 'Город', 'Номер лицензии', 'Причина', 'Дата',\n",
      "       'Причина ликвидации', 'index'],\n",
      "      dtype='object')\n",
      "Processed 9  of 2499...http://www.banki.ru//banks/memory/bank/?id=73586\n",
      "Index(['Название банка', 'Город', 'Номер лицензии', 'Причина', 'Дата',\n",
      "       'Причина отзыва лицензии', 'index'],\n",
      "      dtype='object')\n",
      "Processed 10  of 2499...http://www.banki.ru//banks/memory/bank/?id=73588\n",
      "Index(['Название банка', 'Город', 'Номер лицензии', 'Причина', 'Дата',\n",
      "       'Причина отзыва лицензии', 'index'],\n",
      "      dtype='object')\n",
      "Processed 11  of 2499...http://www.banki.ru//banks/memory/bank/?id=250920\n",
      "Index(['Название банка', 'Город', 'Номер лицензии', 'Причина', 'Дата',\n",
      "       'reason of closing', 'index'],\n",
      "      dtype='object')\n",
      "Processed 12  of 2499...http://www.banki.ru//banks/memory/bank/?id=73590\n",
      "Index(['Название банка', 'Город', 'Номер лицензии', 'Причина', 'Дата',\n",
      "       'Причина отзыва лицензии', 'index'],\n",
      "      dtype='object')\n",
      "Processed 13  of 2499...http://www.banki.ru//banks/memory/bank/?id=73592\n",
      "Index(['Название банка', 'Город', 'Номер лицензии', 'Причина', 'Дата',\n",
      "       'Причина отзыва лицензии', 'index'],\n",
      "      dtype='object')\n",
      "Processed 14  of 2499...http://www.banki.ru//banks/memory/bank/?id=73594\n",
      "Index(['Название банка', 'Город', 'Номер лицензии', 'Причина', 'Дата',\n",
      "       'Причина ликвидации', 'index'],\n",
      "      dtype='object')\n",
      "Processed 15  of 2499...http://www.banki.ru//banks/memory/bank/?id=73596\n",
      "Index(['Название банка', 'Город', 'Номер лицензии', 'Причина', 'Дата',\n",
      "       'Причина отзыва лицензии', 'index'],\n",
      "      dtype='object')\n",
      "Processed 16  of 2499...http://www.banki.ru//banks/memory/bank/?id=73598\n",
      "Index(['Название банка', 'Город', 'Номер лицензии', 'Причина', 'Дата',\n",
      "       'Причина отзыва лицензии', 'index'],\n",
      "      dtype='object')\n",
      "Processed 17  of 2499...http://www.banki.ru//banks/memory/bank/?id=73600\n",
      "Index(['Название банка', 'Город', 'Номер лицензии', 'Причина', 'Дата',\n",
      "       'Причина отзыва лицензии', 'index'],\n",
      "      dtype='object')\n",
      "Processed 18  of 2499...http://www.banki.ru//banks/memory/bank/?id=73606\n",
      "Index(['Название банка', 'Город', 'Номер лицензии', 'Причина', 'Дата',\n",
      "       'Причина отзыва лицензии', 'index'],\n",
      "      dtype='object')\n",
      "Processed 19  of 2499...http://www.banki.ru//banks/memory/bank/?id=250888\n"
     ]
    }
   ],
   "source": [
    "cl = BanksLoader().load_closed()"
   ]
  },
  {
   "cell_type": "code",
   "execution_count": null,
   "metadata": {
    "collapsed": false
   },
   "outputs": [],
   "source": [
    "cl.closed_banks\n"
   ]
  },
  {
   "cell_type": "code",
   "execution_count": null,
   "metadata": {
    "collapsed": false
   },
   "outputs": [],
   "source": [
    "['Н1.0', 'Н1.1', 'Н1.2', 'Н1.3', 'Н10.1', 'Н12', 'Н15',\n",
    " 'Н15.1', 'Н16', 'Н16.1', 'Н16.2', 'Н18', 'Н2', 'Н3', 'Н4', 'Н7', 'Н9.1',]"
   ]
  },
  {
   "cell_type": "code",
   "execution_count": null,
   "metadata": {
    "collapsed": true
   },
   "outputs": [],
   "source": []
  },
  {
   "cell_type": "code",
   "execution_count": null,
   "metadata": {
    "collapsed": true
   },
   "outputs": [],
   "source": []
  }
 ],
 "metadata": {
  "kernelspec": {
   "display_name": "Python 3",
   "language": "python",
   "name": "python3"
  },
  "language_info": {
   "codemirror_mode": {
    "name": "ipython",
    "version": 3
   },
   "file_extension": ".py",
   "mimetype": "text/x-python",
   "name": "python",
   "nbconvert_exporter": "python",
   "pygments_lexer": "ipython3",
   "version": "3.5.1"
  }
 },
 "nbformat": 4,
 "nbformat_minor": 0
}
