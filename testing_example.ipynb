{
 "cells": [
  {
   "cell_type": "code",
   "execution_count": 1,
   "metadata": {
    "collapsed": false
   },
   "outputs": [],
   "source": [
    "from banks import Bank, BankScraper"
   ]
  },
  {
   "cell_type": "code",
   "execution_count": 7,
   "metadata": {
    "collapsed": false
   },
   "outputs": [
    {
     "name": "stdout",
     "output_type": "stream",
     "text": [
      "Pool size: 10\n"
     ]
    }
   ],
   "source": [
    "bs = BankScraper(10)"
   ]
  },
  {
   "cell_type": "code",
   "execution_count": 3,
   "metadata": {
    "collapsed": false
   },
   "outputs": [
    {
     "name": "stdout",
     "output_type": "stream",
     "text": [
      "Loading active banks...\n",
      "Done! Time spent: 6 sec.\n",
      "\n",
      "Loading closed banks...\n",
      "(2499, 6)\n",
      "Done! Time spent: 6 sec.\n",
      "\n",
      "Loading descriptions for 2499 closed banks...Wait a while!\n",
      "(2498, 4)\n",
      "(2499, 9)\n",
      "Done! Time spent: 160 sec.\n"
     ]
    }
   ],
   "source": [
    "bs = bs.get_banks()\n",
    "bs.to_csv()"
   ]
  },
  {
   "cell_type": "code",
   "execution_count": 8,
   "metadata": {
    "collapsed": false
   },
   "outputs": [
    {
     "data": {
      "text/plain": [
       "<banks.bankscraper.BankScraper at 0x7f3b1c208208>"
      ]
     },
     "execution_count": 8,
     "metadata": {},
     "output_type": "execute_result"
    }
   ],
   "source": [
    "bs.from_csv()"
   ]
  },
  {
   "cell_type": "markdown",
   "metadata": {},
   "source": [
    "## Closed banks:"
   ]
  },
  {
   "cell_type": "code",
   "execution_count": 9,
   "metadata": {
    "collapsed": false
   },
   "outputs": [
    {
     "data": {
      "text/html": [
       "<div>\n",
       "<table border=\"1\" class=\"dataframe\">\n",
       "  <thead>\n",
       "    <tr style=\"text-align: right;\">\n",
       "      <th></th>\n",
       "      <th>bank</th>\n",
       "      <th>license_number</th>\n",
       "      <th>reason</th>\n",
       "      <th>date_of_closing</th>\n",
       "      <th>city</th>\n",
       "      <th>link</th>\n",
       "      <th>id</th>\n",
       "      <th>name</th>\n",
       "      <th>reason_of_closing</th>\n",
       "    </tr>\n",
       "  </thead>\n",
       "  <tbody>\n",
       "    <tr>\n",
       "      <th>2494</th>\n",
       "      <td>Сасовобанк</td>\n",
       "      <td>862</td>\n",
       "      <td>ликв.</td>\n",
       "      <td>28.12.1991</td>\n",
       "      <td>Сасово, Рязанская обл.</td>\n",
       "      <td>/banks/memory/bank/?id=217070</td>\n",
       "      <td>-1</td>\n",
       "      <td>Сасовобанк</td>\n",
       "      <td>NaN</td>\n",
       "    </tr>\n",
       "    <tr>\n",
       "      <th>2495</th>\n",
       "      <td>Содружество</td>\n",
       "      <td>556</td>\n",
       "      <td>ликв.</td>\n",
       "      <td>28.12.1991</td>\n",
       "      <td>—</td>\n",
       "      <td>/banks/memory/bank/?id=209141</td>\n",
       "      <td>-1</td>\n",
       "      <td>Содружество</td>\n",
       "      <td>NaN</td>\n",
       "    </tr>\n",
       "    <tr>\n",
       "      <th>2496</th>\n",
       "      <td>Александр Невский</td>\n",
       "      <td>1179</td>\n",
       "      <td>ликв.</td>\n",
       "      <td>28.12.1991</td>\n",
       "      <td>пгт.Александр Невский, Рязанская обл.</td>\n",
       "      <td>/banks/memory/bank/?id=238326</td>\n",
       "      <td>-1</td>\n",
       "      <td>Александр Невский</td>\n",
       "      <td>NaN</td>\n",
       "    </tr>\n",
       "    <tr>\n",
       "      <th>2497</th>\n",
       "      <td>Конверсия, Реконструкция и Развитие</td>\n",
       "      <td>472</td>\n",
       "      <td>отозв.</td>\n",
       "      <td>11.07.1991</td>\n",
       "      <td>Москва</td>\n",
       "      <td>/banks/memory/bank/?id=206345</td>\n",
       "      <td>-1</td>\n",
       "      <td>Конверсия, Реконструкция и Развитие</td>\n",
       "      <td>В результате проверки положения дел коммерческ...</td>\n",
       "    </tr>\n",
       "    <tr>\n",
       "      <th>2498</th>\n",
       "      <td>Универсал</td>\n",
       "      <td>244</td>\n",
       "      <td>отозв.</td>\n",
       "      <td>22.01.1991</td>\n",
       "      <td>Томск</td>\n",
       "      <td>/banks/memory/bank/?id=203724</td>\n",
       "      <td>-1</td>\n",
       "      <td>Универсал</td>\n",
       "      <td>Пpоведенная в мае 1990 г. пpовеpка текущего со...</td>\n",
       "    </tr>\n",
       "  </tbody>\n",
       "</table>\n",
       "</div>"
      ],
      "text/plain": [
       "                                     bank license_number  reason  \\\n",
       "2494                           Сасовобанк            862   ликв.   \n",
       "2495                          Содружество            556   ликв.   \n",
       "2496                    Александр Невский           1179   ликв.   \n",
       "2497  Конверсия, Реконструкция и Развитие            472  отозв.   \n",
       "2498                            Универсал            244  отозв.   \n",
       "\n",
       "     date_of_closing                                   city  \\\n",
       "2494      28.12.1991                 Сасово, Рязанская обл.   \n",
       "2495      28.12.1991                                      —   \n",
       "2496      28.12.1991  пгт.Александр Невский, Рязанская обл.   \n",
       "2497      11.07.1991                                 Москва   \n",
       "2498      22.01.1991                                  Томск   \n",
       "\n",
       "                               link  id                                 name  \\\n",
       "2494  /banks/memory/bank/?id=217070  -1                           Сасовобанк   \n",
       "2495  /banks/memory/bank/?id=209141  -1                          Содружество   \n",
       "2496  /banks/memory/bank/?id=238326  -1                    Александр Невский   \n",
       "2497  /banks/memory/bank/?id=206345  -1  Конверсия, Реконструкция и Развитие   \n",
       "2498  /banks/memory/bank/?id=203724  -1                            Универсал   \n",
       "\n",
       "                                      reason_of_closing  \n",
       "2494                                                NaN  \n",
       "2495                                                NaN  \n",
       "2496                                                NaN  \n",
       "2497  В результате проверки положения дел коммерческ...  \n",
       "2498  Пpоведенная в мае 1990 г. пpовеpка текущего со...  "
      ]
     },
     "execution_count": 9,
     "metadata": {},
     "output_type": "execute_result"
    }
   ],
   "source": [
    "bs.closed_banks.tail()"
   ]
  },
  {
   "cell_type": "markdown",
   "metadata": {},
   "source": [
    "## Active banks:"
   ]
  },
  {
   "cell_type": "code",
   "execution_count": 7,
   "metadata": {
    "collapsed": false,
    "scrolled": true
   },
   "outputs": [
    {
     "data": {
      "text/html": [
       "<div>\n",
       "<table border=\"1\" class=\"dataframe\">\n",
       "  <thead>\n",
       "    <tr style=\"text-align: right;\">\n",
       "      <th></th>\n",
       "      <th>id</th>\n",
       "      <th>license_number</th>\n",
       "      <th>name</th>\n",
       "    </tr>\n",
       "  </thead>\n",
       "  <tbody>\n",
       "    <tr>\n",
       "      <th>2</th>\n",
       "      <td>400000027</td>\n",
       "      <td>3309</td>\n",
       "      <td>21 ВЕК</td>\n",
       "    </tr>\n",
       "    <tr>\n",
       "      <th>3</th>\n",
       "      <td>450000370</td>\n",
       "      <td>2306</td>\n",
       "      <td>АБСОЛЮТ БАНК</td>\n",
       "    </tr>\n",
       "    <tr>\n",
       "      <th>4</th>\n",
       "      <td>450000785</td>\n",
       "      <td>2879</td>\n",
       "      <td>АВАНГАРД</td>\n",
       "    </tr>\n",
       "    <tr>\n",
       "      <th>5</th>\n",
       "      <td>920000004</td>\n",
       "      <td>415</td>\n",
       "      <td>АВЕРС</td>\n",
       "    </tr>\n",
       "    <tr>\n",
       "      <th>6</th>\n",
       "      <td>920000023</td>\n",
       "      <td>1455</td>\n",
       "      <td>АВТОГРАДБАНК</td>\n",
       "    </tr>\n",
       "  </tbody>\n",
       "</table>\n",
       "</div>"
      ],
      "text/plain": [
       "          id license_number          name\n",
       "2  400000027           3309        21 ВЕК\n",
       "3  450000370           2306  АБСОЛЮТ БАНК\n",
       "4  450000785           2879      АВАНГАРД\n",
       "5  920000004            415         АВЕРС\n",
       "6  920000023           1455  АВТОГРАДБАНК"
      ]
     },
     "execution_count": 7,
     "metadata": {},
     "output_type": "execute_result"
    }
   ],
   "source": [
    "bs.active_banks.head()"
   ]
  },
  {
   "cell_type": "code",
   "execution_count": 10,
   "metadata": {
    "collapsed": false
   },
   "outputs": [
    {
     "name": "stdout",
     "output_type": "stream",
     "text": [
      "АЛЬФА-БАНК\n",
      "3422\n",
      "(400000027) Лиц. № 3309 - 21 ВЕК\n"
     ]
    }
   ],
   "source": [
    "bank1 = Bank(450000036,1326,'АЛЬФА-БАНК')\n",
    "print(bank1.name)\n",
    "\n",
    "bank2 = bs.closed_banks_list[55]\n",
    "print(bank2.license_number)\n",
    "\n",
    "bank3 = bs.active_banks_list[0]\n",
    "print(bank3)"
   ]
  },
  {
   "cell_type": "code",
   "execution_count": 1,
   "metadata": {
    "collapsed": false
   },
   "outputs": [],
   "source": [
    "from banks import Bank, BankScraper\n",
    "from banks.forms import Form101, Form102"
   ]
  },
  {
   "cell_type": "code",
   "execution_count": 2,
   "metadata": {
    "collapsed": false
   },
   "outputs": [],
   "source": [
    "bank = Bank(450000036,1326,'АЛЬФА-БАНК')\n",
    "f = Form102(bank)"
   ]
  },
  {
   "cell_type": "code",
   "execution_count": 5,
   "metadata": {
    "collapsed": false
   },
   "outputs": [
    {
     "ename": "AttributeError",
     "evalue": "'FormUnit' object has no attribute 'assets'",
     "output_type": "error",
     "traceback": [
      "\u001b[1;31m---------------------------------------------------------------------------\u001b[0m",
      "\u001b[1;31mAttributeError\u001b[0m                            Traceback (most recent call last)",
      "\u001b[1;32m<ipython-input-5-3e21ae85b338>\u001b[0m in \u001b[0;36m<module>\u001b[1;34m()\u001b[0m\n\u001b[1;32m----> 1\u001b[1;33m \u001b[0mf\u001b[0m\u001b[1;33m.\u001b[0m\u001b[0mДоходы\u001b[0m\u001b[1;33m.\u001b[0m\u001b[0mПо_банковским_операциям_и_другим_сделкам\u001b[0m\u001b[1;33m.\u001b[0m\u001b[0mПроцентные_Доходы\u001b[0m\u001b[1;33m.\u001b[0m\u001b[0mПо_депозитам_клиентов___физических_лиц\u001b[0m\u001b[1;33m.\u001b[0m\u001b[0mincome_sum\u001b[0m\u001b[1;33m(\u001b[0m\u001b[1;33m)\u001b[0m\u001b[1;33m\u001b[0m\u001b[0m\n\u001b[0m",
      "\u001b[1;32m/media/storage/Dropbox/dev/cbr_scraper/banks/forms/form102.py\u001b[0m in \u001b[0;36mincome_sum\u001b[1;34m(self)\u001b[0m\n\u001b[0;32m     41\u001b[0m     \u001b[1;32mdef\u001b[0m \u001b[0mincome_sum\u001b[0m\u001b[1;33m(\u001b[0m\u001b[0mself\u001b[0m\u001b[1;33m)\u001b[0m\u001b[1;33m:\u001b[0m\u001b[1;33m\u001b[0m\u001b[0m\n\u001b[0;32m     42\u001b[0m         \u001b[1;34m\"\"\"Returns the amount of assets in this unit\"\"\"\u001b[0m\u001b[1;33m\u001b[0m\u001b[0m\n\u001b[1;32m---> 43\u001b[1;33m         \u001b[1;32mreturn\u001b[0m \u001b[0mnp\u001b[0m\u001b[1;33m.\u001b[0m\u001b[0msum\u001b[0m\u001b[1;33m(\u001b[0m\u001b[1;33m[\u001b[0m\u001b[0macc\u001b[0m\u001b[1;33m.\u001b[0m\u001b[0mbalance\u001b[0m \u001b[1;32mfor\u001b[0m \u001b[0macc\u001b[0m \u001b[1;32min\u001b[0m \u001b[0mself\u001b[0m\u001b[1;33m.\u001b[0m\u001b[0massets\u001b[0m\u001b[1;33m]\u001b[0m\u001b[1;33m)\u001b[0m\u001b[1;33m\u001b[0m\u001b[0m\n\u001b[0m\u001b[0;32m     44\u001b[0m \u001b[1;33m\u001b[0m\u001b[0m\n\u001b[0;32m     45\u001b[0m     \u001b[1;32mdef\u001b[0m \u001b[0mexpenses_sum\u001b[0m\u001b[1;33m(\u001b[0m\u001b[0mself\u001b[0m\u001b[1;33m)\u001b[0m\u001b[1;33m:\u001b[0m\u001b[1;33m\u001b[0m\u001b[0m\n",
      "\u001b[1;31mAttributeError\u001b[0m: 'FormUnit' object has no attribute 'assets'"
     ]
    }
   ],
   "source": [
    "f.Доходы.По_банковским_операциям_и_другим_сделкам.Процентные_Доходы.По_депозитам_клиентов___физических_лиц.income_sum()"
   ]
  },
  {
   "cell_type": "code",
   "execution_count": 4,
   "metadata": {
    "collapsed": false
   },
   "outputs": [
    {
     "data": {
      "text/html": [
       "<div>\n",
       "<table border=\"1\" class=\"dataframe\">\n",
       "  <thead>\n",
       "    <tr style=\"text-align: right;\">\n",
       "      <th></th>\n",
       "      <th>10207</th>\n",
       "      <th>10601</th>\n",
       "      <th>10602</th>\n",
       "      <th>10603</th>\n",
       "      <th>10605</th>\n",
       "      <th>10609</th>\n",
       "      <th>10610</th>\n",
       "      <th>10701</th>\n",
       "      <th>10801</th>\n",
       "      <th>20202</th>\n",
       "      <th>...</th>\n",
       "      <th>98050</th>\n",
       "      <th>98053</th>\n",
       "      <th>98055</th>\n",
       "      <th>98060</th>\n",
       "      <th>98065</th>\n",
       "      <th>98070</th>\n",
       "      <th>98080</th>\n",
       "      <th>98090</th>\n",
       "      <th>date</th>\n",
       "      <th>bank</th>\n",
       "    </tr>\n",
       "  </thead>\n",
       "  <tbody>\n",
       "    <tr>\n",
       "      <th>0</th>\n",
       "      <td>59587623.0</td>\n",
       "      <td>2403788.0</td>\n",
       "      <td>1810961.0</td>\n",
       "      <td>1090204.0</td>\n",
       "      <td>1665935.0</td>\n",
       "      <td>102165.0</td>\n",
       "      <td>480812.0</td>\n",
       "      <td>2979381.0</td>\n",
       "      <td>116879083.0</td>\n",
       "      <td>44098326.0</td>\n",
       "      <td>...</td>\n",
       "      <td>6.649309e+14</td>\n",
       "      <td>0.0</td>\n",
       "      <td>830250.0</td>\n",
       "      <td>95554701.0</td>\n",
       "      <td>0.0</td>\n",
       "      <td>2.040101e+11</td>\n",
       "      <td>0.0</td>\n",
       "      <td>4085666.0</td>\n",
       "      <td>2016-01-01</td>\n",
       "      <td>450000036</td>\n",
       "    </tr>\n",
       "    <tr>\n",
       "      <th>1</th>\n",
       "      <td>59587623.0</td>\n",
       "      <td>2403788.0</td>\n",
       "      <td>1810961.0</td>\n",
       "      <td>1210699.0</td>\n",
       "      <td>1320329.0</td>\n",
       "      <td>102165.0</td>\n",
       "      <td>480812.0</td>\n",
       "      <td>2979381.0</td>\n",
       "      <td>116879083.0</td>\n",
       "      <td>31104126.0</td>\n",
       "      <td>...</td>\n",
       "      <td>6.649309e+14</td>\n",
       "      <td>0.0</td>\n",
       "      <td>831493.0</td>\n",
       "      <td>95345970.0</td>\n",
       "      <td>0.0</td>\n",
       "      <td>2.449697e+11</td>\n",
       "      <td>0.0</td>\n",
       "      <td>4085666.0</td>\n",
       "      <td>2016-02-01</td>\n",
       "      <td>450000036</td>\n",
       "    </tr>\n",
       "    <tr>\n",
       "      <th>2</th>\n",
       "      <td>59587623.0</td>\n",
       "      <td>2403785.0</td>\n",
       "      <td>1810961.0</td>\n",
       "      <td>1300518.0</td>\n",
       "      <td>592720.0</td>\n",
       "      <td>102165.0</td>\n",
       "      <td>480812.0</td>\n",
       "      <td>2979381.0</td>\n",
       "      <td>116879085.0</td>\n",
       "      <td>30141725.0</td>\n",
       "      <td>...</td>\n",
       "      <td>6.649309e+14</td>\n",
       "      <td>0.0</td>\n",
       "      <td>834429.0</td>\n",
       "      <td>108881095.0</td>\n",
       "      <td>0.0</td>\n",
       "      <td>1.966642e+11</td>\n",
       "      <td>0.0</td>\n",
       "      <td>1755757.0</td>\n",
       "      <td>2016-03-01</td>\n",
       "      <td>450000036</td>\n",
       "    </tr>\n",
       "    <tr>\n",
       "      <th>3</th>\n",
       "      <td>59587623.0</td>\n",
       "      <td>2403785.0</td>\n",
       "      <td>1810961.0</td>\n",
       "      <td>2008985.0</td>\n",
       "      <td>281619.0</td>\n",
       "      <td>115146.0</td>\n",
       "      <td>480758.0</td>\n",
       "      <td>2979381.0</td>\n",
       "      <td>116879031.0</td>\n",
       "      <td>28493640.0</td>\n",
       "      <td>...</td>\n",
       "      <td>6.649311e+14</td>\n",
       "      <td>0.0</td>\n",
       "      <td>959089.0</td>\n",
       "      <td>108837759.0</td>\n",
       "      <td>0.0</td>\n",
       "      <td>1.868732e+11</td>\n",
       "      <td>0.0</td>\n",
       "      <td>1755757.0</td>\n",
       "      <td>2016-04-01</td>\n",
       "      <td>450000036</td>\n",
       "    </tr>\n",
       "    <tr>\n",
       "      <th>4</th>\n",
       "      <td>59587623.0</td>\n",
       "      <td>2403785.0</td>\n",
       "      <td>1810961.0</td>\n",
       "      <td>2633901.0</td>\n",
       "      <td>247295.0</td>\n",
       "      <td>21814.0</td>\n",
       "      <td>848044.0</td>\n",
       "      <td>2979381.0</td>\n",
       "      <td>116879030.0</td>\n",
       "      <td>32130165.0</td>\n",
       "      <td>...</td>\n",
       "      <td>6.649310e+14</td>\n",
       "      <td>0.0</td>\n",
       "      <td>985003.0</td>\n",
       "      <td>109006458.0</td>\n",
       "      <td>0.0</td>\n",
       "      <td>2.487299e+11</td>\n",
       "      <td>0.0</td>\n",
       "      <td>1755757.0</td>\n",
       "      <td>2016-05-01</td>\n",
       "      <td>450000036</td>\n",
       "    </tr>\n",
       "  </tbody>\n",
       "</table>\n",
       "<p>5 rows × 536 columns</p>\n",
       "</div>"
      ],
      "text/plain": [
       "        10207      10601      10602      10603      10605     10609     10610  \\\n",
       "0  59587623.0  2403788.0  1810961.0  1090204.0  1665935.0  102165.0  480812.0   \n",
       "1  59587623.0  2403788.0  1810961.0  1210699.0  1320329.0  102165.0  480812.0   \n",
       "2  59587623.0  2403785.0  1810961.0  1300518.0   592720.0  102165.0  480812.0   \n",
       "3  59587623.0  2403785.0  1810961.0  2008985.0   281619.0  115146.0  480758.0   \n",
       "4  59587623.0  2403785.0  1810961.0  2633901.0   247295.0   21814.0  848044.0   \n",
       "\n",
       "       10701        10801       20202    ...             98050  98053  \\\n",
       "0  2979381.0  116879083.0  44098326.0    ...      6.649309e+14    0.0   \n",
       "1  2979381.0  116879083.0  31104126.0    ...      6.649309e+14    0.0   \n",
       "2  2979381.0  116879085.0  30141725.0    ...      6.649309e+14    0.0   \n",
       "3  2979381.0  116879031.0  28493640.0    ...      6.649311e+14    0.0   \n",
       "4  2979381.0  116879030.0  32130165.0    ...      6.649310e+14    0.0   \n",
       "\n",
       "      98055        98060  98065         98070  98080      98090       date  \\\n",
       "0  830250.0   95554701.0    0.0  2.040101e+11    0.0  4085666.0 2016-01-01   \n",
       "1  831493.0   95345970.0    0.0  2.449697e+11    0.0  4085666.0 2016-02-01   \n",
       "2  834429.0  108881095.0    0.0  1.966642e+11    0.0  1755757.0 2016-03-01   \n",
       "3  959089.0  108837759.0    0.0  1.868732e+11    0.0  1755757.0 2016-04-01   \n",
       "4  985003.0  109006458.0    0.0  2.487299e+11    0.0  1755757.0 2016-05-01   \n",
       "\n",
       "        bank  \n",
       "0  450000036  \n",
       "1  450000036  \n",
       "2  450000036  \n",
       "3  450000036  \n",
       "4  450000036  \n",
       "\n",
       "[5 rows x 536 columns]"
      ]
     },
     "execution_count": 4,
     "metadata": {},
     "output_type": "execute_result"
    }
   ],
   "source": [
    "f.to_dataframe()"
   ]
  },
  {
   "cell_type": "code",
   "execution_count": null,
   "metadata": {
    "collapsed": true
   },
   "outputs": [],
   "source": []
  }
 ],
 "metadata": {
  "kernelspec": {
   "display_name": "Python 3",
   "language": "python",
   "name": "python3"
  },
  "language_info": {
   "codemirror_mode": {
    "name": "ipython",
    "version": 3
   },
   "file_extension": ".py",
   "mimetype": "text/x-python",
   "name": "python",
   "nbconvert_exporter": "python",
   "pygments_lexer": "ipython3",
   "version": "3.5.1"
  }
 },
 "nbformat": 4,
 "nbformat_minor": 0
}
