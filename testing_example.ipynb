{
 "cells": [
  {
   "cell_type": "code",
   "execution_count": 1,
   "metadata": {
    "collapsed": false
   },
   "outputs": [],
   "source": [
    "from banks import Bank, BankScraper"
   ]
  },
  {
   "cell_type": "code",
   "execution_count": 2,
   "metadata": {
    "collapsed": false
   },
   "outputs": [
    {
     "name": "stdout",
     "output_type": "stream",
     "text": [
      "Pool size: 4\n"
     ]
    }
   ],
   "source": [
    "bs = BankScraper()"
   ]
  },
  {
   "cell_type": "code",
   "execution_count": 3,
   "metadata": {
    "collapsed": false
   },
   "outputs": [
    {
     "name": "stdout",
     "output_type": "stream",
     "text": [
      "Loading active banks...\n",
      "\n",
      "Loading closed banks...\n",
      "\n",
      "Loading descriptions for 2498 closed banks...Wait a while!\n",
      "Done! Time spent: 530 sec.\n"
     ]
    }
   ],
   "source": [
    "bs = bs.get_banks()\n",
    "bs.to_csv()"
   ]
  },
  {
   "cell_type": "code",
   "execution_count": 3,
   "metadata": {
    "collapsed": false
   },
   "outputs": [
    {
     "data": {
      "text/plain": [
       "<banks.bankscraper.BankScraper at 0x7fdc69026e10>"
      ]
     },
     "execution_count": 3,
     "metadata": {},
     "output_type": "execute_result"
    }
   ],
   "source": [
    "bs.from_csv()"
   ]
  },
  {
   "cell_type": "markdown",
   "metadata": {},
   "source": [
    "## Closed banks:"
   ]
  },
  {
   "cell_type": "code",
   "execution_count": 4,
   "metadata": {
    "collapsed": false
   },
   "outputs": [
    {
     "data": {
      "text/html": [
       "<div>\n",
       "<table border=\"1\" class=\"dataframe\">\n",
       "  <thead>\n",
       "    <tr style=\"text-align: right;\">\n",
       "      <th></th>\n",
       "      <th>bank</th>\n",
       "      <th>license_number</th>\n",
       "      <th>reason</th>\n",
       "      <th>date_of_closing</th>\n",
       "      <th>city</th>\n",
       "      <th>link</th>\n",
       "      <th>id</th>\n",
       "      <th>name</th>\n",
       "      <th>reason_of_closing</th>\n",
       "    </tr>\n",
       "  </thead>\n",
       "  <tbody>\n",
       "    <tr>\n",
       "      <th>396</th>\n",
       "      <td>Империя</td>\n",
       "      <td>2535</td>\n",
       "      <td>отозв.</td>\n",
       "      <td>14.12.2010</td>\n",
       "      <td>Москва</td>\n",
       "      <td>/banks/memory/bank/?id=2515558</td>\n",
       "      <td>450000485</td>\n",
       "      <td>ООО «Банк Империя»</td>\n",
       "      <td>Лицензия отозвана в связи с неисполнением банк...</td>\n",
       "    </tr>\n",
       "    <tr>\n",
       "      <th>397</th>\n",
       "      <td>Приватхолдингбанк</td>\n",
       "      <td>3372</td>\n",
       "      <td>отозв.</td>\n",
       "      <td>14.12.2010</td>\n",
       "      <td>Москва</td>\n",
       "      <td>/banks/memory/bank/?id=2515566</td>\n",
       "      <td>450039448</td>\n",
       "      <td>ООО «Коммерческий банк «ПриватХолдингБанк»</td>\n",
       "      <td>Лицензия отозвана в связи с неисполнением банк...</td>\n",
       "    </tr>\n",
       "    <tr>\n",
       "      <th>398</th>\n",
       "      <td>Транштрейд (НКО)</td>\n",
       "      <td>2676-К</td>\n",
       "      <td>отозв.</td>\n",
       "      <td>14.12.2010</td>\n",
       "      <td>Махачкала</td>\n",
       "      <td>/banks/memory/bank/?id=2515707</td>\n",
       "      <td>820000025</td>\n",
       "      <td>ООО «Расчетная небанковская кредитная организа...</td>\n",
       "      <td>Лицензия отозвана в связи с неисполнением неба...</td>\n",
       "    </tr>\n",
       "    <tr>\n",
       "      <th>399</th>\n",
       "      <td>Славянский Банк</td>\n",
       "      <td>383</td>\n",
       "      <td>отозв.</td>\n",
       "      <td>03.12.2010</td>\n",
       "      <td>Москва</td>\n",
       "      <td>/banks/memory/bank/?id=2479702</td>\n",
       "      <td>450000668</td>\n",
       "      <td>ЗАО «Акционерный коммерческий банк «Славянский...</td>\n",
       "      <td>Лицензия отозвана в связи с неисполнением банк...</td>\n",
       "    </tr>\n",
       "    <tr>\n",
       "      <th>400</th>\n",
       "      <td>Традо-Банк</td>\n",
       "      <td>1065</td>\n",
       "      <td>отозв.</td>\n",
       "      <td>03.12.2010</td>\n",
       "      <td>Москва</td>\n",
       "      <td>/banks/memory/bank/?id=2479721</td>\n",
       "      <td>460000005</td>\n",
       "      <td>ЗАО «Акционерный коммерческий банк «Традо-Банк»</td>\n",
       "      <td>Лицензия отозвана в связи с неисполнением банк...</td>\n",
       "    </tr>\n",
       "  </tbody>\n",
       "</table>\n",
       "</div>"
      ],
      "text/plain": [
       "                  bank license_number  reason date_of_closing       city  \\\n",
       "396            Империя           2535  отозв.      14.12.2010     Москва   \n",
       "397  Приватхолдингбанк           3372  отозв.      14.12.2010     Москва   \n",
       "398   Транштрейд (НКО)         2676-К  отозв.      14.12.2010  Махачкала   \n",
       "399    Славянский Банк            383  отозв.      03.12.2010     Москва   \n",
       "400         Традо-Банк           1065  отозв.      03.12.2010     Москва   \n",
       "\n",
       "                               link         id  \\\n",
       "396  /banks/memory/bank/?id=2515558  450000485   \n",
       "397  /banks/memory/bank/?id=2515566  450039448   \n",
       "398  /banks/memory/bank/?id=2515707  820000025   \n",
       "399  /banks/memory/bank/?id=2479702  450000668   \n",
       "400  /banks/memory/bank/?id=2479721  460000005   \n",
       "\n",
       "                                                  name  \\\n",
       "396                                 ООО «Банк Империя»   \n",
       "397         ООО «Коммерческий банк «ПриватХолдингБанк»   \n",
       "398  ООО «Расчетная небанковская кредитная организа...   \n",
       "399  ЗАО «Акционерный коммерческий банк «Славянский...   \n",
       "400    ЗАО «Акционерный коммерческий банк «Традо-Банк»   \n",
       "\n",
       "                                     reason_of_closing  \n",
       "396  Лицензия отозвана в связи с неисполнением банк...  \n",
       "397  Лицензия отозвана в связи с неисполнением банк...  \n",
       "398  Лицензия отозвана в связи с неисполнением неба...  \n",
       "399  Лицензия отозвана в связи с неисполнением банк...  \n",
       "400  Лицензия отозвана в связи с неисполнением банк...  "
      ]
     },
     "execution_count": 4,
     "metadata": {},
     "output_type": "execute_result"
    }
   ],
   "source": [
    "bs.closed_banks.tail()"
   ]
  },
  {
   "cell_type": "markdown",
   "metadata": {},
   "source": [
    "## Active banks:"
   ]
  },
  {
   "cell_type": "code",
   "execution_count": 5,
   "metadata": {
    "collapsed": false,
    "scrolled": true
   },
   "outputs": [
    {
     "data": {
      "text/html": [
       "<div>\n",
       "<table border=\"1\" class=\"dataframe\">\n",
       "  <thead>\n",
       "    <tr style=\"text-align: right;\">\n",
       "      <th></th>\n",
       "      <th>id</th>\n",
       "      <th>license_number</th>\n",
       "      <th>name</th>\n",
       "    </tr>\n",
       "  </thead>\n",
       "  <tbody>\n",
       "    <tr>\n",
       "      <th>0</th>\n",
       "      <td>400000027</td>\n",
       "      <td>3309</td>\n",
       "      <td>21 ВЕК</td>\n",
       "    </tr>\n",
       "    <tr>\n",
       "      <th>1</th>\n",
       "      <td>450000370</td>\n",
       "      <td>2306</td>\n",
       "      <td>АБСОЛЮТ БАНК</td>\n",
       "    </tr>\n",
       "    <tr>\n",
       "      <th>2</th>\n",
       "      <td>450000785</td>\n",
       "      <td>2879</td>\n",
       "      <td>АВАНГАРД</td>\n",
       "    </tr>\n",
       "    <tr>\n",
       "      <th>3</th>\n",
       "      <td>920000004</td>\n",
       "      <td>415</td>\n",
       "      <td>АВЕРС</td>\n",
       "    </tr>\n",
       "    <tr>\n",
       "      <th>4</th>\n",
       "      <td>920000023</td>\n",
       "      <td>1455</td>\n",
       "      <td>АВТОГРАДБАНК</td>\n",
       "    </tr>\n",
       "  </tbody>\n",
       "</table>\n",
       "</div>"
      ],
      "text/plain": [
       "          id  license_number          name\n",
       "0  400000027            3309        21 ВЕК\n",
       "1  450000370            2306  АБСОЛЮТ БАНК\n",
       "2  450000785            2879      АВАНГАРД\n",
       "3  920000004             415         АВЕРС\n",
       "4  920000023            1455  АВТОГРАДБАНК"
      ]
     },
     "execution_count": 5,
     "metadata": {},
     "output_type": "execute_result"
    }
   ],
   "source": [
    "bs.active_banks.head()"
   ]
  },
  {
   "cell_type": "code",
   "execution_count": 8,
   "metadata": {
    "collapsed": false
   },
   "outputs": [
    {
     "name": "stdout",
     "output_type": "stream",
     "text": [
      "АЛЬФА-БАНК\n",
      "2167\n",
      "(400000027) Лиц. № 3309 - 21 ВЕК\n"
     ]
    }
   ],
   "source": [
    "bank1 = Bank(450000036,1326,'АЛЬФА-БАНК')\n",
    "print(bank1.name)\n",
    "\n",
    "bank2 = bs.closed_banks_list[55]\n",
    "print(bank2.license_number)\n",
    "\n",
    "bank3 = bs.active_banks_list[0]\n",
    "print(bank3)"
   ]
  },
  {
   "cell_type": "code",
   "execution_count": null,
   "metadata": {
    "collapsed": true
   },
   "outputs": [],
   "source": []
  }
 ],
 "metadata": {
  "kernelspec": {
   "display_name": "Python 3",
   "language": "python",
   "name": "python3"
  },
  "language_info": {
   "codemirror_mode": {
    "name": "ipython",
    "version": 3
   },
   "file_extension": ".py",
   "mimetype": "text/x-python",
   "name": "python",
   "nbconvert_exporter": "python",
   "pygments_lexer": "ipython3",
   "version": "3.5.1"
  }
 },
 "nbformat": 4,
 "nbformat_minor": 0
}
