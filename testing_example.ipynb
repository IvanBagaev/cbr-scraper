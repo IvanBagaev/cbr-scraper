{
 "cells": [
  {
   "cell_type": "code",
   "execution_count": 4,
   "metadata": {
    "collapsed": false
   },
   "outputs": [],
   "source": [
    "from banks import Bank, BankScraper"
   ]
  },
  {
   "cell_type": "code",
   "execution_count": 7,
   "metadata": {
    "collapsed": false
   },
   "outputs": [
    {
     "name": "stdout",
     "output_type": "stream",
     "text": [
      "Pool size: 10\n"
     ]
    }
   ],
   "source": [
    "bs = BankScraper(10)"
   ]
  },
  {
   "cell_type": "code",
   "execution_count": 3,
   "metadata": {
    "collapsed": false
   },
   "outputs": [
    {
     "name": "stdout",
     "output_type": "stream",
     "text": [
      "Loading active banks...\n",
      "Done! Time spent: 6 sec.\n",
      "\n",
      "Loading closed banks...\n",
      "(2499, 6)\n",
      "Done! Time spent: 6 sec.\n",
      "\n",
      "Loading descriptions for 2499 closed banks...Wait a while!\n",
      "(2498, 4)\n",
      "(2499, 9)\n",
      "Done! Time spent: 160 sec.\n"
     ]
    }
   ],
   "source": [
    "bs = bs.get_banks()\n",
    "bs.to_csv()"
   ]
  },
  {
   "cell_type": "code",
   "execution_count": 8,
   "metadata": {
    "collapsed": false
   },
   "outputs": [
    {
     "data": {
      "text/plain": [
       "<banks.bankscraper.BankScraper at 0x7f3b1c208208>"
      ]
     },
     "execution_count": 8,
     "metadata": {},
     "output_type": "execute_result"
    }
   ],
   "source": [
    "bs.from_csv()"
   ]
  },
  {
   "cell_type": "markdown",
   "metadata": {},
   "source": [
    "## Closed banks:"
   ]
  },
  {
   "cell_type": "code",
   "execution_count": 9,
   "metadata": {
    "collapsed": false
   },
   "outputs": [
    {
     "data": {
      "text/html": [
       "<div>\n",
       "<table border=\"1\" class=\"dataframe\">\n",
       "  <thead>\n",
       "    <tr style=\"text-align: right;\">\n",
       "      <th></th>\n",
       "      <th>bank</th>\n",
       "      <th>license_number</th>\n",
       "      <th>reason</th>\n",
       "      <th>date_of_closing</th>\n",
       "      <th>city</th>\n",
       "      <th>link</th>\n",
       "      <th>id</th>\n",
       "      <th>name</th>\n",
       "      <th>reason_of_closing</th>\n",
       "    </tr>\n",
       "  </thead>\n",
       "  <tbody>\n",
       "    <tr>\n",
       "      <th>2494</th>\n",
       "      <td>Сасовобанк</td>\n",
       "      <td>862</td>\n",
       "      <td>ликв.</td>\n",
       "      <td>28.12.1991</td>\n",
       "      <td>Сасово, Рязанская обл.</td>\n",
       "      <td>/banks/memory/bank/?id=217070</td>\n",
       "      <td>-1</td>\n",
       "      <td>Сасовобанк</td>\n",
       "      <td>NaN</td>\n",
       "    </tr>\n",
       "    <tr>\n",
       "      <th>2495</th>\n",
       "      <td>Содружество</td>\n",
       "      <td>556</td>\n",
       "      <td>ликв.</td>\n",
       "      <td>28.12.1991</td>\n",
       "      <td>—</td>\n",
       "      <td>/banks/memory/bank/?id=209141</td>\n",
       "      <td>-1</td>\n",
       "      <td>Содружество</td>\n",
       "      <td>NaN</td>\n",
       "    </tr>\n",
       "    <tr>\n",
       "      <th>2496</th>\n",
       "      <td>Александр Невский</td>\n",
       "      <td>1179</td>\n",
       "      <td>ликв.</td>\n",
       "      <td>28.12.1991</td>\n",
       "      <td>пгт.Александр Невский, Рязанская обл.</td>\n",
       "      <td>/banks/memory/bank/?id=238326</td>\n",
       "      <td>-1</td>\n",
       "      <td>Александр Невский</td>\n",
       "      <td>NaN</td>\n",
       "    </tr>\n",
       "    <tr>\n",
       "      <th>2497</th>\n",
       "      <td>Конверсия, Реконструкция и Развитие</td>\n",
       "      <td>472</td>\n",
       "      <td>отозв.</td>\n",
       "      <td>11.07.1991</td>\n",
       "      <td>Москва</td>\n",
       "      <td>/banks/memory/bank/?id=206345</td>\n",
       "      <td>-1</td>\n",
       "      <td>Конверсия, Реконструкция и Развитие</td>\n",
       "      <td>В результате проверки положения дел коммерческ...</td>\n",
       "    </tr>\n",
       "    <tr>\n",
       "      <th>2498</th>\n",
       "      <td>Универсал</td>\n",
       "      <td>244</td>\n",
       "      <td>отозв.</td>\n",
       "      <td>22.01.1991</td>\n",
       "      <td>Томск</td>\n",
       "      <td>/banks/memory/bank/?id=203724</td>\n",
       "      <td>-1</td>\n",
       "      <td>Универсал</td>\n",
       "      <td>Пpоведенная в мае 1990 г. пpовеpка текущего со...</td>\n",
       "    </tr>\n",
       "  </tbody>\n",
       "</table>\n",
       "</div>"
      ],
      "text/plain": [
       "                                     bank license_number  reason  \\\n",
       "2494                           Сасовобанк            862   ликв.   \n",
       "2495                          Содружество            556   ликв.   \n",
       "2496                    Александр Невский           1179   ликв.   \n",
       "2497  Конверсия, Реконструкция и Развитие            472  отозв.   \n",
       "2498                            Универсал            244  отозв.   \n",
       "\n",
       "     date_of_closing                                   city  \\\n",
       "2494      28.12.1991                 Сасово, Рязанская обл.   \n",
       "2495      28.12.1991                                      —   \n",
       "2496      28.12.1991  пгт.Александр Невский, Рязанская обл.   \n",
       "2497      11.07.1991                                 Москва   \n",
       "2498      22.01.1991                                  Томск   \n",
       "\n",
       "                               link  id                                 name  \\\n",
       "2494  /banks/memory/bank/?id=217070  -1                           Сасовобанк   \n",
       "2495  /banks/memory/bank/?id=209141  -1                          Содружество   \n",
       "2496  /banks/memory/bank/?id=238326  -1                    Александр Невский   \n",
       "2497  /banks/memory/bank/?id=206345  -1  Конверсия, Реконструкция и Развитие   \n",
       "2498  /banks/memory/bank/?id=203724  -1                            Универсал   \n",
       "\n",
       "                                      reason_of_closing  \n",
       "2494                                                NaN  \n",
       "2495                                                NaN  \n",
       "2496                                                NaN  \n",
       "2497  В результате проверки положения дел коммерческ...  \n",
       "2498  Пpоведенная в мае 1990 г. пpовеpка текущего со...  "
      ]
     },
     "execution_count": 9,
     "metadata": {},
     "output_type": "execute_result"
    }
   ],
   "source": [
    "bs.closed_banks.tail()"
   ]
  },
  {
   "cell_type": "markdown",
   "metadata": {},
   "source": [
    "## Active banks:"
   ]
  },
  {
   "cell_type": "code",
   "execution_count": 7,
   "metadata": {
    "collapsed": false,
    "scrolled": true
   },
   "outputs": [
    {
     "data": {
      "text/html": [
       "<div>\n",
       "<table border=\"1\" class=\"dataframe\">\n",
       "  <thead>\n",
       "    <tr style=\"text-align: right;\">\n",
       "      <th></th>\n",
       "      <th>id</th>\n",
       "      <th>license_number</th>\n",
       "      <th>name</th>\n",
       "    </tr>\n",
       "  </thead>\n",
       "  <tbody>\n",
       "    <tr>\n",
       "      <th>2</th>\n",
       "      <td>400000027</td>\n",
       "      <td>3309</td>\n",
       "      <td>21 ВЕК</td>\n",
       "    </tr>\n",
       "    <tr>\n",
       "      <th>3</th>\n",
       "      <td>450000370</td>\n",
       "      <td>2306</td>\n",
       "      <td>АБСОЛЮТ БАНК</td>\n",
       "    </tr>\n",
       "    <tr>\n",
       "      <th>4</th>\n",
       "      <td>450000785</td>\n",
       "      <td>2879</td>\n",
       "      <td>АВАНГАРД</td>\n",
       "    </tr>\n",
       "    <tr>\n",
       "      <th>5</th>\n",
       "      <td>920000004</td>\n",
       "      <td>415</td>\n",
       "      <td>АВЕРС</td>\n",
       "    </tr>\n",
       "    <tr>\n",
       "      <th>6</th>\n",
       "      <td>920000023</td>\n",
       "      <td>1455</td>\n",
       "      <td>АВТОГРАДБАНК</td>\n",
       "    </tr>\n",
       "  </tbody>\n",
       "</table>\n",
       "</div>"
      ],
      "text/plain": [
       "          id license_number          name\n",
       "2  400000027           3309        21 ВЕК\n",
       "3  450000370           2306  АБСОЛЮТ БАНК\n",
       "4  450000785           2879      АВАНГАРД\n",
       "5  920000004            415         АВЕРС\n",
       "6  920000023           1455  АВТОГРАДБАНК"
      ]
     },
     "execution_count": 7,
     "metadata": {},
     "output_type": "execute_result"
    }
   ],
   "source": [
    "bs.active_banks.head()"
   ]
  },
  {
   "cell_type": "code",
   "execution_count": 10,
   "metadata": {
    "collapsed": false
   },
   "outputs": [
    {
     "name": "stdout",
     "output_type": "stream",
     "text": [
      "АЛЬФА-БАНК\n",
      "3422\n",
      "(400000027) Лиц. № 3309 - 21 ВЕК\n"
     ]
    }
   ],
   "source": [
    "bank1 = Bank(450000036,1326,'АЛЬФА-БАНК')\n",
    "print(bank1.name)\n",
    "\n",
    "bank2 = bs.closed_banks_list[55]\n",
    "print(bank2.license_number)\n",
    "\n",
    "bank3 = bs.active_banks_list[0]\n",
    "print(bank3)"
   ]
  },
  {
   "cell_type": "code",
   "execution_count": 1,
   "metadata": {
    "collapsed": false
   },
   "outputs": [],
   "source": [
    "from banks.forms import Form101"
   ]
  },
  {
   "cell_type": "code",
   "execution_count": 2,
   "metadata": {
    "collapsed": false
   },
   "outputs": [],
   "source": [
    "f = Form101('date')"
   ]
  },
  {
   "cell_type": "code",
   "execution_count": 3,
   "metadata": {
    "collapsed": false
   },
   "outputs": [
    {
     "data": {
      "text/plain": [
       "0"
      ]
     },
     "execution_count": 3,
     "metadata": {},
     "output_type": "execute_result"
    }
   ],
   "source": [
    "f.balance_accounts.Добавочный_капитал.assets_sum()"
   ]
  },
  {
   "cell_type": "code",
   "execution_count": null,
   "metadata": {
    "collapsed": true
   },
   "outputs": [],
   "source": []
  }
 ],
 "metadata": {
  "kernelspec": {
   "display_name": "Python 3",
   "language": "python",
   "name": "python3"
  },
  "language_info": {
   "codemirror_mode": {
    "name": "ipython",
    "version": 3
   },
   "file_extension": ".py",
   "mimetype": "text/x-python",
   "name": "python",
   "nbconvert_exporter": "python",
   "pygments_lexer": "ipython3",
   "version": "3.5.1"
  }
 },
 "nbformat": 4,
 "nbformat_minor": 0
}
